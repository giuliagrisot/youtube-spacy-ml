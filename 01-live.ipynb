{
 "cells": [
  {
   "cell_type": "code",
   "execution_count": 1,
   "id": "5b82d6b4-603f-4026-8b55-82a75fcf0f93",
   "metadata": {},
   "outputs": [],
   "source": [
    "with open(\"ocr/09.txt\", \"r\", encoding=\"utf-8\") as f:\n",
    "    data = f.read()"
   ]
  },
  {
   "cell_type": "code",
   "execution_count": 2,
   "id": "fa950e98-7c3f-4bf1-bf5c-7b2ec40d84f4",
   "metadata": {},
   "outputs": [
    {
     "data": {
      "text/plain": [
       "['News Bulletin of the International Defence & Aid Fund ', 'S ']"
      ]
     },
     "execution_count": 2,
     "metadata": {},
     "output_type": "execute_result"
    }
   ],
   "source": [
    "sections = data.split(\"\\n\")\n",
    "sections[:2]"
   ]
  },
  {
   "cell_type": "code",
   "execution_count": 3,
   "id": "b2da9f9d-7bd0-479a-855d-b8aa16abb703",
   "metadata": {},
   "outputs": [
    {
     "data": {
      "text/plain": [
       "240"
      ]
     },
     "execution_count": 3,
     "metadata": {},
     "output_type": "execute_result"
    }
   ],
   "source": [
    "training_data = []\n",
    "for s in sections:\n",
    "    if \"(\" in s:\n",
    "        training_data.append({\"text\": s.strip()})\n",
    "len(training_data)"
   ]
  },
  {
   "cell_type": "code",
   "execution_count": 5,
   "id": "eb51eb50-c704-4681-82f8-d02ac62dd91c",
   "metadata": {},
   "outputs": [
    {
     "data": {
      "text/plain": [
       "{'text': 'Giving notice of the bill, Minister of Justice Mr. Kruger said it meant that \"the government will not be able to be sued for actions taken during riots\", though only for those actions undertaken \"in good faith with the intent of sup- pressing or terminating internal disorder\". Later he added that the intention was not to prevent people who had a good case from submitting claims. Compensation could be paid in deserving cases. But \"those who gave rise to the unrest and had a part in it, and in the process were injured or suffered damages, cannot ex- pect to load the police with defending unfounded claims.\" Indemnity for the state and its officials had been given before in 1961. (RDM 22.1.77, 1/2.2.77)'}"
      ]
     },
     "execution_count": 5,
     "metadata": {},
     "output_type": "execute_result"
    }
   ],
   "source": [
    "training_data[1]"
   ]
  },
  {
   "cell_type": "code",
   "execution_count": 6,
   "id": "d8284afa-2b56-4446-8813-d936c6558e35",
   "metadata": {},
   "outputs": [],
   "source": [
    "import srsly"
   ]
  },
  {
   "cell_type": "code",
   "execution_count": 8,
   "id": "453113b8-75f7-4b88-acf7-37ef1899e353",
   "metadata": {},
   "outputs": [],
   "source": [
    "srsly.write_jsonl(\"data/focus_input.jsonl\", training_data)"
   ]
  },
  {
   "cell_type": "code",
   "execution_count": null,
   "id": "18559d4e-3061-404b-8216-2dda0cf235e8",
   "metadata": {},
   "outputs": [],
   "source": []
  }
 ],
 "metadata": {
  "kernelspec": {
   "display_name": "Python 3 (ipykernel)",
   "language": "python",
   "name": "python3"
  },
  "language_info": {
   "codemirror_mode": {
    "name": "ipython",
    "version": 3
   },
   "file_extension": ".py",
   "mimetype": "text/x-python",
   "name": "python",
   "nbconvert_exporter": "python",
   "pygments_lexer": "ipython3",
   "version": "3.10.11"
  }
 },
 "nbformat": 4,
 "nbformat_minor": 5
}
