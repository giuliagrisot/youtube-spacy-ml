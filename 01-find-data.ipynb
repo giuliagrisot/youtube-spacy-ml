{
 "cells": [
  {
   "cell_type": "code",
   "metadata": {
    "ExecuteTime": {
     "end_time": "2024-04-18T14:22:46.679090Z",
     "start_time": "2024-04-18T14:22:46.658650Z"
    }
   },
   "source": [
    "with open(\"ocr/09.txt\", \"r\", encoding=\"utf-8\") as f:\n",
    "    data = f.read()"
   ],
   "outputs": [],
   "execution_count": 1
  },
  {
   "cell_type": "code",
   "metadata": {
    "ExecuteTime": {
     "end_time": "2024-04-17T09:43:45.467956Z",
     "start_time": "2024-04-17T09:43:45.454363Z"
    }
   },
   "source": [
    "sections = data.split(\"\\n\")\n",
    "print(sections[:2], len(sections))"
   ],
   "outputs": [
    {
     "name": "stdout",
     "output_type": "stream",
     "text": [
      "['News Bulletin of the International Defence & Aid Fund ', 'S '] 768\n"
     ]
    }
   ],
   "execution_count": 2
  },
  {
   "cell_type": "code",
   "metadata": {
    "ExecuteTime": {
     "end_time": "2024-04-17T09:43:45.633193Z",
     "start_time": "2024-04-17T09:43:45.567636Z"
    }
   },
   "source": [
    "training_data = []\n",
    "for s in sections:\n",
    "    if \"(\" in s:\n",
    "        training_data.append({\"text\": s.strip()})\n",
    "len(training_data)"
   ],
   "outputs": [
    {
     "data": {
      "text/plain": [
       "240"
      ]
     },
     "execution_count": 3,
     "metadata": {},
     "output_type": "execute_result"
    }
   ],
   "execution_count": 3
  },
  {
   "cell_type": "code",
   "metadata": {
    "ExecuteTime": {
     "end_time": "2024-04-17T09:43:45.713013Z",
     "start_time": "2024-04-17T09:43:45.705255Z"
    }
   },
   "source": [
    "print(training_data[1])"
   ],
   "outputs": [
    {
     "name": "stdout",
     "output_type": "stream",
     "text": [
      "{'text': 'Giving notice of the bill, Minister of Justice Mr. Kruger said it meant that \"the government will not be able to be sued for actions taken during riots\", though only for those actions undertaken \"in good faith with the intent of sup- pressing or terminating internal disorder\". Later he added that the intention was not to prevent people who had a good case from submitting claims. Compensation could be paid in deserving cases. But \"those who gave rise to the unrest and had a part in it, and in the process were injured or suffered damages, cannot ex- pect to load the police with defending unfounded claims.\" Indemnity for the state and its officials had been given before in 1961. (RDM 22.1.77, 1/2.2.77)'}\n"
     ]
    }
   ],
   "execution_count": 4
  },
  {
   "cell_type": "code",
   "metadata": {
    "ExecuteTime": {
     "end_time": "2024-04-17T09:44:00.281014Z",
     "start_time": "2024-04-17T09:43:45.782182Z"
    }
   },
   "source": [
    "import srsly"
   ],
   "outputs": [],
   "execution_count": 5
  },
  {
   "cell_type": "code",
   "metadata": {
    "ExecuteTime": {
     "end_time": "2024-04-17T09:44:00.296266Z",
     "start_time": "2024-04-17T09:44:00.285896Z"
    }
   },
   "source": [
    "srsly.write_jsonl(\"data/focus_input.jsonl\", training_data)"
   ],
   "outputs": [],
   "execution_count": 6
  },
  {
   "cell_type": "code",
   "metadata": {
    "ExecuteTime": {
     "end_time": "2024-04-17T09:44:00.304536Z",
     "start_time": "2024-04-17T09:44:00.299566Z"
    }
   },
   "source": [],
   "outputs": [],
   "execution_count": 6
  }
 ],
 "metadata": {
  "kernelspec": {
   "display_name": "Python 3 (ipykernel)",
   "language": "python",
   "name": "python3"
  },
  "language_info": {
   "codemirror_mode": {
    "name": "ipython",
    "version": 3
   },
   "file_extension": ".py",
   "mimetype": "text/x-python",
   "name": "python",
   "nbconvert_exporter": "python",
   "pygments_lexer": "ipython3",
   "version": "3.10.11"
  }
 },
 "nbformat": 4,
 "nbformat_minor": 4
}
